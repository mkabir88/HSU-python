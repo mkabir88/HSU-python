{
 "cells": [
  {
   "cell_type": "markdown",
   "id": "91897c99",
   "metadata": {},
   "source": [
    "A program which asks for the user's name and address and print out the given information."
   ]
  },
  {
   "cell_type": "code",
   "execution_count": null,
   "id": "4c9832d1",
   "metadata": {},
   "outputs": [],
   "source": [
    "given_name= input(\"Given name: \")\n",
    "family_name= input(\"Family name: \")\n",
    "street_address= input(\"Street address: \")\n",
    "city_and_postal_code= input(\"City and Postal code: \")\n",
    "print(given_name +\" \"+ family_name)\n",
    "print(street_address)\n",
    "print(city_and_postal_code)"
   ]
  },
  {
   "cell_type": "code",
   "execution_count": null,
   "id": "3cb50cba",
   "metadata": {},
   "outputs": [],
   "source": []
  },
  {
   "cell_type": "code",
   "execution_count": null,
   "id": "0cd4fd7c",
   "metadata": {},
   "outputs": [],
   "source": []
  }
 ],
 "metadata": {
  "kernelspec": {
   "display_name": "Python 3 (ipykernel)",
   "language": "python",
   "name": "python3"
  },
  "language_info": {
   "codemirror_mode": {
    "name": "ipython",
    "version": 3
   },
   "file_extension": ".py",
   "mimetype": "text/x-python",
   "name": "python",
   "nbconvert_exporter": "python",
   "pygments_lexer": "ipython3",
   "version": "3.9.7"
  }
 },
 "nbformat": 4,
 "nbformat_minor": 5
}
